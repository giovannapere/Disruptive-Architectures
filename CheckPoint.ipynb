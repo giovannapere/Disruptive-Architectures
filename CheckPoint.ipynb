{
  "cells": [
    {
      "cell_type": "markdown",
      "metadata": {
        "id": "KcvCCavU_ffg"
      },
      "source": [
        "## Checkpoint 2 \n",
        "\n",
        "Utilizando o código abaixo para gerar dados de duas classes.\n",
        "\n",
        "implemente uma rede neural que seja capaz de classificar corretamente os dados.\n",
        "\n",
        "Utilize como parâmetros seu proprio RM.\n",
        "\n",
        "exemplo:\n",
        " RM = abcde\n",
        " - nData = 100 * (a+b+c+d+e)\n",
        " - nVertices = 1 * maximo(a,b,c,d,e)\n",
        "\n"
      ]
    },
    {
      "cell_type": "markdown",
      "source": [
        "Giovanna Sousa Pereira de Lima RM94767"
      ],
      "metadata": {
        "id": "YYeHMBBeqbAy"
      }
    },
    {
      "cell_type": "code",
      "execution_count": 3,
      "metadata": {
        "vscode": {
          "languageId": "plaintext"
        },
        "id": "PUyzqyPF_ffm"
      },
      "outputs": [],
      "source": [
        "  ### execute essa celula, mas não altere essa função.\n",
        "\n",
        "import numpy as np\n",
        "import matplotlib.pyplot as plt\n",
        "\n",
        "  def generate_data(nData, nVertices):\n",
        "    c = np.random.uniform()*2*np.pi\n",
        "    c1 = np.zeros((nData,2))\n",
        "    c2 = np.zeros((nData,2))\n",
        "    for ii in range(nData):\n",
        "      th = np.random.uniform()*2*np.pi;\n",
        "      r  = 0.5*np.random.uniform()+1.25+0.2*np.cos(nVertices*(th+c));\n",
        "      c1[ii,:]=r*np.array([np.cos(th), np.sin(th)]);\n",
        "\n",
        "      th = np.random.uniform()*3*np.pi;\n",
        "      r  = np.random.uniform()+0.3*np.cos(nVertices*(th+c));\n",
        "      c2[ii,:]=r*np.array([np.cos(th), np.sin(th)]);\n",
        "    return c1, c2"
      ]
    },
    {
      "cell_type": "code",
      "execution_count": null,
      "metadata": {
        "vscode": {
          "languageId": "plaintext"
        },
        "id": "b0ix5X1M_ffq"
      },
      "outputs": [],
      "source": [
        "## coloque seu RM aqui!!\n",
        "RM = [9,4,7,6,7]\n",
        "\n",
        "nData = 100 * (sum(RM))\n",
        "nVertices = 1 * max(RM)\n",
        "\n",
        "#gera os dados\n",
        "c1, c2 = generate_data(nData,nVertices)\n",
        "\n",
        "#plot dos dados\n",
        "plt.scatter(c1[:,0],c1[:,1])\n",
        "plt.scatter(c2[:,0],c2[:,1])"
      ]
    },
    {
      "cell_type": "markdown",
      "metadata": {
        "id": "KyAe0Uz9_ffr"
      },
      "source": [
        "Comente sobre a decisão de cada parametro utilizado:\n",
        "\n",
        "Serão avaliados:\n",
        "    - estrutura do código\n",
        "    - testes realizados\n",
        "    - Números de neurônios\n",
        "    - Número de camadas\n",
        "    - Algoritmo de adaptação\n",
        "    - Partâmetros do algoritmo de adaptação\n",
        "    - Função de ativação"
      ]
    },
    {
      "cell_type": "code",
      "execution_count": 5,
      "metadata": {
        "vscode": {
          "languageId": "plaintext"
        },
        "id": "iO-duhhl_ffs"
      },
      "outputs": [],
      "source": [
        "# Importação das bibliotecas necessárias\n",
        "import numpy as np\n",
        "import pandas as pd\n",
        "import tensorflow as tf\n",
        "from tensorflow.keras.models import Sequential\n",
        "from tensorflow.keras.layers import Dense\n",
        "from tensorflow.keras.layers import Dropout\n",
        "from tensorflow.keras.layers import BatchNormalization\n",
        "from keras.utils.np_utils import to_categorical  \n",
        "import matplotlib.pyplot as plt\n",
        "\n",
        "from sklearn.metrics import accuracy_score, precision_score, recall_score, f1_score\n",
        "\n",
        "# importação da métricas de avaliação\n",
        "from sklearn.metrics import accuracy_score, f1_score, precision_score, recall_score\n",
        "from sklearn.metrics import accuracy_score, precision_score, recall_score, f1_score"
      ]
    },
    {
      "cell_type": "code",
      "source": [
        "# Define o tamanho da camada escondida e o número de classes\n",
        "hidden_layer_size = 50\n",
        "num_classes = 2\n",
        "\n",
        "# Define a arquitetura da rede\n",
        "model = tf.keras.Sequential([\n",
        "    tf.keras.layers.Dense(hidden_layer_size, activation='relu'),\n",
        "    tf.keras.layers.Dense(num_classes, activation='softmax')\n",
        "])\n",
        "\n",
        "# Compila o modelo\n",
        "model.compile(optimizer='adam',\n",
        "              loss='sparse_categorical_crossentropy',\n",
        "              metrics=['accuracy'])\n",
        "\n",
        "# Define os dados de entrada (X) e as classes (y)\n",
        "X = np.random.rand(100, 10)\n",
        "y = np.random.randint(0, num_classes, size=(100,))\n",
        "\n",
        "# Define o tamanho dos dados de treinamento e teste\n",
        "train_size = int(0.8 * X.shape[0])\n",
        "test_size = X.shape[0] - train_size\n",
        "\n",
        "# Separa os dados em conjuntos de treinamento e teste\n",
        "X_train, X_test = np.split(X, [train_size])\n",
        "y_train, y_test = np.split(y, [train_size])\n",
        "\n",
        "# Treina o modelo\n",
        "history = model.fit(X_train, y_train, epochs=12, validation_data=(X_test, y_test))\n",
        "\n",
        "# Plota a acurácia do modelo ao longo do tempo\n",
        "plt.plot(history.history['accuracy'])\n",
        "plt.plot(history.history['val_accuracy'])\n",
        "plt.title('Acurácia do Modelo')\n",
        "plt.xlabel('Época')\n",
        "plt.ylabel('Acurácia')\n",
        "plt.legend(['Treinamento', 'Teste'], loc='upper left')\n",
        "plt.show()\n",
        "\n",
        "# Avalia o modelo com os dados de teste\n",
        "y_pred = model.predict(X_test)\n",
        "y_pred = np.argmax(y_pred, axis=1)\n",
        "\n",
        "# Calcula as métricas de avaliação\n",
        "accuracy = accuracy_score(y_test, y_pred)\n",
        "precision = precision_score(y_test, y_pred)\n",
        "recall = recall_score(y_test, y_pred)\n",
        "f1 = f1_score(y_test, y_pred)\n",
        "\n",
        "# Imprime as métricas de avaliação\n",
        "print(\"Acurácia:\", accuracy)\n",
        "print(\"Precisão:\", precision)\n",
        "print(\"Revocação:\", recall)\n",
        "print(\"F1-Score:\", f1)"
      ],
      "metadata": {
        "id": "ah6TXOyAhf6v"
      },
      "execution_count": null,
      "outputs": []
    },
    {
      "cell_type": "code",
      "source": [
        "# Define o tamanho da camada escondida e o número de classes\n",
        "hidden_layer_size = 50\n",
        "num_classes = 2\n",
        "\n",
        "# Define a arquitetura da rede\n",
        "model = tf.keras.Sequential([\n",
        "    tf.keras.layers.Dense(hidden_layer_size, activation='relu'),\n",
        "    tf.keras.layers.Dense(num_classes, activation='softmax')\n",
        "])\n",
        "\n",
        "# Compila o modelo\n",
        "model.compile(optimizer='adam',\n",
        "              loss='sparse_categorical_crossentropy',\n",
        "              metrics=['accuracy'])\n",
        "\n",
        "# Define o tamanho dos dados de treinamento e teste\n",
        "train_size = int(0.8 * nData * sum(RM))\n",
        "test_size = nData * sum(RM) - train_size\n",
        "\n",
        "# Separa os dados em conjuntos de treinamento e teste\n",
        "c1_train, c1_test = np.split(c1, [train_size])\n",
        "c2_train, c2_test = np.split(c2, [train_size])\n",
        "\n",
        "# Concatena os dados de treinamento e teste\n",
        "X_train = np.concatenate((c1_train, c2_train))\n",
        "X_test = np.concatenate((c1_test, c2_test))\n",
        "y_train = np.concatenate((np.zeros(c1_train.shape[0]), np.ones(c2_train.shape[0])))\n",
        "y_test = np.concatenate((np.zeros(c1_test.shape[0]), np.ones(c2_test.shape[0])))\n",
        "\n",
        "# Treina o modelo\n",
        "history = model.fit(X_train, y_train, epochs=15, validation_data=(X_test, y_test))\n",
        "\n",
        "# Plota a acurácia do modelo ao longo do tempo\n",
        "plt.plot(history.history['accuracy'])\n",
        "plt.title('Acurácia do Modelo')\n",
        "plt.xlabel('Época')\n",
        "plt.ylabel('Acurácia')\n",
        "plt.legend(['Treinamento', 'Teste'], loc='upper left')\n",
        "plt.show()"
      ],
      "metadata": {
        "colab": {
          "base_uri": "https://localhost:8080/",
          "height": 984
        },
        "id": "jZoyXOdIqHKZ",
        "outputId": "78cb408c-b1c3-4fde-e051-e6fbb86af51f"
      },
      "execution_count": 11,
      "outputs": [
        {
          "output_type": "stream",
          "name": "stdout",
          "text": [
            "Epoch 1/15\n",
            "207/207 [==============================] - 3s 4ms/step - loss: 0.5260 - accuracy: 0.7502\n",
            "Epoch 2/15\n",
            "207/207 [==============================] - 1s 4ms/step - loss: 0.2860 - accuracy: 0.9411\n",
            "Epoch 3/15\n",
            "207/207 [==============================] - 1s 5ms/step - loss: 0.1762 - accuracy: 0.9618\n",
            "Epoch 4/15\n",
            "207/207 [==============================] - 1s 5ms/step - loss: 0.1322 - accuracy: 0.9683\n",
            "Epoch 5/15\n",
            "207/207 [==============================] - 1s 5ms/step - loss: 0.1104 - accuracy: 0.9700\n",
            "Epoch 6/15\n",
            "207/207 [==============================] - 1s 4ms/step - loss: 0.0971 - accuracy: 0.9724\n",
            "Epoch 7/15\n",
            "207/207 [==============================] - 1s 3ms/step - loss: 0.0881 - accuracy: 0.9727\n",
            "Epoch 8/15\n",
            "207/207 [==============================] - 1s 3ms/step - loss: 0.0828 - accuracy: 0.9739\n",
            "Epoch 9/15\n",
            "207/207 [==============================] - 1s 3ms/step - loss: 0.0780 - accuracy: 0.9755\n",
            "Epoch 10/15\n",
            "207/207 [==============================] - 1s 4ms/step - loss: 0.0748 - accuracy: 0.9755\n",
            "Epoch 11/15\n",
            "207/207 [==============================] - 1s 3ms/step - loss: 0.0717 - accuracy: 0.9741\n",
            "Epoch 12/15\n",
            "207/207 [==============================] - 1s 4ms/step - loss: 0.0696 - accuracy: 0.9745\n",
            "Epoch 13/15\n",
            "207/207 [==============================] - 1s 3ms/step - loss: 0.0671 - accuracy: 0.9767\n",
            "Epoch 14/15\n",
            "207/207 [==============================] - 1s 3ms/step - loss: 0.0659 - accuracy: 0.9770\n",
            "Epoch 15/15\n",
            "207/207 [==============================] - 1s 3ms/step - loss: 0.0643 - accuracy: 0.9756\n"
          ]
        },
        {
          "output_type": "display_data",
          "data": {
            "text/plain": [
              "<Figure size 640x480 with 1 Axes>"
            ],
            "image/png": "[encoded data removed]"
          },
          "metadata": {}
        }
      ]
    }
  ],
  "metadata": {
    "interpreter": {
      "hash": "916dbcbb3f70747c44a77c7bcd40155683ae19c65e1c03b4aa3499c5328201f1"
    },
    "kernelspec": {
      "display_name": "Python 3 (ipykernel)",
      "language": "python",
      "name": "python3"
    },
    "language_info": {
      "codemirror_mode": {
        "name": "ipython",
        "version": 3
      },
      "file_extension": ".py",
      "mimetype": "text/x-python",
      "name": "python",
      "nbconvert_exporter": "python",
      "pygments_lexer": "ipython3",
      "version": "3.10.2"
    },
    "colab": {
      "provenance": []
    },
    "accelerator": "GPU",
    "gpuClass": "standard"
  },
  "nbformat": 4,
  "nbformat_minor": 0
}